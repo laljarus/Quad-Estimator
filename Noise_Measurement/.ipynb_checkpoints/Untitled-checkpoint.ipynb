{
 "cells": [
  {
   "cell_type": "code",
   "execution_count": 3,
   "metadata": {},
   "outputs": [],
   "source": [
    "import numpy as np\n",
    "import matplotlib.pyplot as plt"
   ]
  },
  {
   "cell_type": "code",
   "execution_count": 6,
   "metadata": {},
   "outputs": [],
   "source": [
    "gps_x = np.loadtxt('Graph1.txt',delimiter = \",\",skiprows = 1)\n",
    "imu_x = np.loadtxt('Graph2.txt',delimiter = \",\",skiprows = 1)"
   ]
  },
  {
   "cell_type": "code",
   "execution_count": 10,
   "metadata": {},
   "outputs": [
    {
     "name": "stdout",
     "output_type": "stream",
     "text": [
      "0.7144153872168162\n",
      "0.48951107463842486\n"
     ]
    }
   ],
   "source": [
    "gpx_mean = np.std(gps_x[:,1])\n",
    "imu_mean = np.std(imu_x[:,1])\n",
    "gps_std = np.std(gps_x[:,1])\n",
    "imu_std = np.std(imu_x[:,1])\n",
    "print(gps_std)\n",
    "print(imu_std)"
   ]
  },
  {
   "cell_type": "code",
   "execution_count": null,
   "metadata": {},
   "outputs": [],
   "source": []
  }
 ],
 "metadata": {
  "kernelspec": {
   "display_name": "Python 3",
   "language": "python",
   "name": "python3"
  },
  "language_info": {
   "codemirror_mode": {
    "name": "ipython",
    "version": 3
   },
   "file_extension": ".py",
   "mimetype": "text/x-python",
   "name": "python",
   "nbconvert_exporter": "python",
   "pygments_lexer": "ipython3",
   "version": "3.6.3"
  }
 },
 "nbformat": 4,
 "nbformat_minor": 2
}
